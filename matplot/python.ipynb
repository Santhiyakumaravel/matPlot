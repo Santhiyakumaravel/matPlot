{
 "cells": [
  {
   "cell_type": "code",
   "execution_count": null,
   "id": "50a9c104",
   "metadata": {},
   "outputs": [],
   "source": [
    "#bar chart\n",
    "import matplotlib.pyplot as plt\n",
    "import numpy as np\n",
    "x=np.array([\"apple\",\"banana\",\"orange\",\"pineapple\"])\n",
    "y=np.array([10,24,23,36])\n",
    "plt.bar(x,y,color='skyblue')\n",
    "plt.title(\"Fruit sales\")\n",
    "plt.xlabel(\"Fruit\")\n",
    "plt.ylabel(\"Quantity sold\")\n",
    "plt.grid(axis='y')\n",
    "plt.show()\n",
    "plt.savefig(\"plot1.png\")"
   ]
  }
 ],
 "metadata": {
  "language_info": {
   "name": "python"
  }
 },
 "nbformat": 4,
 "nbformat_minor": 5
}
